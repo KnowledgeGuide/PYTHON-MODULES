{
 "cells": [
  {
   "cell_type": "markdown",
   "id": "aeea12b6",
   "metadata": {},
   "source": [
    "1. What IS OBject-Oriented Programming(OOP)?\n",
    "   \n",
    "   Object-Oriented Programming (OOP) is a programming paradigm that uses \"Objects\" to design applications and computer progrms. It focuses on organizing code into self-Contained units called objects, which represent real-world entities or concepts"
   ]
  },
  {
   "cell_type": "markdown",
   "id": "e469685b",
   "metadata": {},
   "source": [
    "2. What is a class in OOP?\n",
    "\n",
    "   In Object-Oriented Programming (OOP), a class serves as a blueprint or template for creating objects. It defines the structure and behavior that its objects will possess. "
   ]
  },
  {
   "cell_type": "markdown",
   "id": "70233877",
   "metadata": {},
   "source": [
    "3. What is an Object in OOP?\n",
    "\n",
    "   In object-oriented programming (OOP), an object is a specific instance of a class, representing a real-world entity that holds both data (attributes) and the functions (methods) to operate on that data."
   ]
  },
  {
   "cell_type": "markdown",
   "id": "45db69de",
   "metadata": {},
   "source": [
    "4. What is the difference between abstraction and encapsulation?\n",
    "\n",
    "   Abstraction is about hiding the complex implementation and showing only the essential features of an object (the \"what\"), while encapsulation is about bundling data and the methods that operate on that data into a single unit and controlling access to them (the \"how\" and \"who\" of data access)."
   ]
  },
  {
   "cell_type": "markdown",
   "id": "702c7d48",
   "metadata": {},
   "source": [
    "5. What are dunder methods in Python?\n",
    "\n",
    "   Dunder methods, also known as magic methods, are special methods in Python identified by their names starting and ending with double underscores (e.g., __init__, __add__, __len__). The term \"dunder\" is an abbreviation for \"double underscore.\""
   ]
  },
  {
   "cell_type": "markdown",
   "id": "47d10afe",
   "metadata": {},
   "source": [
    "6. Explain the concept of inheritance in OOP.\n",
    "\n",
    "   Exploring Inheritance in Object-Oriented Programming - DEV ...In object-oriented programming (OOP), inheritance is a mechanism that allows a new class (child class or subclass) to acquire properties and behaviors (methods) from an existing class (parent class or superclass)."
   ]
  },
  {
   "cell_type": "markdown",
   "id": "4430bab5",
   "metadata": {},
   "source": [
    "7. What is polymorphism in OOP?\n",
    "\n",
    "   Polymorphism in Object-Oriented Programming (OOP) is the ability of an object to take on many forms, allowing a single interface to represent different underlying forms or behaviors. It means you can use the same command or method to perform actions that are different for each object type, enabling flexible, reusable, and organized code by treating objects of different classes uniformly"
   ]
  },
  {
   "cell_type": "markdown",
   "id": "5a8585b7",
   "metadata": {},
   "source": [
    "8. How is encapsulation achieved in Python?\n",
    "\n",
    "   Encapsulation in Python is achieved by bundling data (attributes) and methods that operate on that data within a single unit, a class, and by controlling access to those attributes and methods. While Python does not have strict access modifiers like public, private, or protected keywords found in other languages like Java, it uses conventions and name mangling to indicate and manage access levels."
   ]
  },
  {
   "cell_type": "markdown",
   "id": "ff858920",
   "metadata": {},
   "source": [
    "9. What is a constructor in Python?\n",
    "\n",
    "   In Python, the constructor is a special method used to initialize the attributes of an object when a class is instantiated. It is automatically called whenever an object of the class is created"
   ]
  },
  {
   "cell_type": "markdown",
   "id": "310ed661",
   "metadata": {},
   "source": [
    "10. What are class and static methods in Python?\n",
    "\n",
    "    In Python, both class methods and static methods are defined within a class but differ in their interaction with the class and its instances."
   ]
  },
  {
   "cell_type": "markdown",
   "id": "195f175b",
   "metadata": {},
   "source": [
    "11. What is method overloading in Python?\n",
    "\n",
    "    Method overloading in Python refers to the concept of having multiple methods with the same name within a single class, but with different parameters or argument lists. While Python does not support true method overloading in the same way as statically-typed languages like Java or C++, it provides mechanisms to achieve a similar effect."
   ]
  },
  {
   "cell_type": "markdown",
   "id": "a1a0b28e",
   "metadata": {},
   "source": [
    "12. What is method overriding in OOP?  \n",
    "\n",
    "    Method overriding in OOP allows a subclass to provide its own specific implementation of a method inherited from its parent class. This is achieved when a subclass defines a method with the same name, return type, and parameters (a.k.a. signature) as a method in its superclass, and it is used to enable polymorphism, where the behavior of the method depends on the object's actual type at runtime. "
   ]
  },
  {
   "cell_type": "markdown",
   "id": "3ee8f1ea",
   "metadata": {},
   "source": [
    "13. What is a property decorator in Python? \n",
    "\n",
    "    In Python, the @property decorator is a built-in decorator that allows methods to be accessed like attributes, providing a more \"Pythonic\" way to manage class attributes. It is a fundamental tool for implementing managed attributes, often used to encapsulate the logic for getting, setting, or deleting an attribute's value without explicitly calling getter and setter methods."
   ]
  },
  {
   "cell_type": "markdown",
   "id": "7b7f174c",
   "metadata": {},
   "source": [
    "14. Why is polymorphism important in OOP?\n",
    "\n",
    "    Polymorphism is a cornerstone of object-oriented programming (OOP) due to its ability to enhance code flexibility, reusability, and maintainability."
   ]
  },
  {
   "cell_type": "markdown",
   "id": "d589247e",
   "metadata": {},
   "source": [
    "15. What is an abstract class in Python?\n",
    "\n",
    "    An abstract class in Python is a class that cannot be instantiated directly and is designed to serve as a blueprint for other classes. It defines a common interface that its subclasses must implement. This concept is typically implemented using the abc (Abstract Base Classes) module in Python. "
   ]
  },
  {
   "cell_type": "markdown",
   "id": "89460bb4",
   "metadata": {},
   "source": [
    "16. What are the advantages of OOP?\n",
    "\n",
    "    Object-Oriented Programming (OOP) offers advantages like modularity, reusability, maintainability, security, scalability, and flexibility by organizing code around objects that encapsulate data and behavior. Key benefits include easier troubleshooting, better code organization, reduced redundancy, improved data protection, and the ability to handle complex systems more efficiently."
   ]
  },
  {
   "cell_type": "markdown",
   "id": "9502bec9",
   "metadata": {},
   "source": [
    "17. What is multiple inheritance in Python ?\n",
    "\n",
    "    Multiple inheritance in Python is a feature that allows a class to inherit attributes and methods from more than one parent class. This means a single child class can combine functionalities and characteristics from several distinct base classes."
   ]
  },
  {
   "cell_type": "markdown",
   "id": "a7976588",
   "metadata": {},
   "source": [
    "18. What is the difference between a class variable and an instance variable?\n",
    "\n",
    "    Class Variable: It is basically a static variable that can be declared anywhere at class level with static. Across different objects, these variables can have only one value. These variables are not tied to any particular object of the class, therefore, can share across all objects of the class.  \n",
    "    \n",
    "    Instance Variable: It is basically a class variable without a static modifier and is usually shared by all class instances. Across different objects, these variables can have different values. They are tied to a particular object instance of the class, therefore, the contents of an instance variable are totally independent of one object instance to others."
   ]
  },
  {
   "cell_type": "markdown",
   "id": "c70b8271",
   "metadata": {},
   "source": [
    "19. Explain the purpose of ‘’__str__’ and ‘__repr__’ ‘ methods in Python?\n",
    "\n",
    "    In Python, __str__ and __repr__ are special methods, also known as \"dunder methods\" (double underscore methods), that define how an object is represented as a string."
   ]
  },
  {
   "cell_type": "markdown",
   "id": "108eae69",
   "metadata": {},
   "source": [
    "20. What is the significance of the ‘super()’ function in Python?\n",
    "\n",
    "    The super() function in Python holds significant importance within the context of object-oriented programming, particularly concerning inheritance. Its primary significance lies in enabling access to methods and properties of a parent or superclass from a child or subclass. "
   ]
  },
  {
   "cell_type": "markdown",
   "id": "9793a118",
   "metadata": {},
   "source": [
    "21. What is the significance of the __del__ method in Python ? \n",
    "\n",
    "    The __del__ method in Python, often referred to as a destructor, holds significance primarily in resource management and cleanup tasks associated with an object's lifecycle."
   ]
  },
  {
   "cell_type": "markdown",
   "id": "b40befea",
   "metadata": {},
   "source": [
    "22. What is the difference between @staticmethod and @classmethod in Python ?\n",
    "\n",
    "    A static method does not receive an implicit first argument. A static method is also a method that is bound to the class and not the object of the class. This method can't access or modify the class state. It is present in a class because it makes sense for the method to be present in class.\n",
    "\n",
    "    The @classmethod decorator is a built-in function decorator that is an expression that gets evaluated after your function is defined. The result of that evaluation shadows your function definition. A class method receives the class as an implicit first argument, just like an instance method receives the instance."
   ]
  },
  {
   "cell_type": "markdown",
   "id": "3ea75123",
   "metadata": {},
   "source": [
    "23. How does polymorphism work in Python with inheritance?\n",
    "\n",
    "    Polymorphism in Python, when combined with inheritance, primarily manifests through method overriding. This allows child classes to provide their own specific implementations for methods that are already defined in their parent class."
   ]
  },
  {
   "cell_type": "markdown",
   "id": "31dc1677",
   "metadata": {},
   "source": [
    "24. What is method chaining in Python OOP? \n",
    "\n",
    "    Method chaining in Python Object-Oriented Programming (OOP) is a technique that allows the invocation of multiple methods on an object in a single, continuous line of code. This is achieved by designing methods within a class such that each method, after performing its operation, returns the object itself"
   ]
  },
  {
   "cell_type": "markdown",
   "id": "8cb62b25",
   "metadata": {},
   "source": [
    "25. What is the purpose of the __call__ method in Python?\n",
    "\n",
    "    The __call__ method in Python allows instances of a class to be invoked as if they were functions. This means that if you create an object of a class that defines __call__, you can then use parentheses () after the object's name to execute the code within the __call__ method, passing any desired arguments. "
   ]
  }
 ],
 "metadata": {
  "kernelspec": {
   "display_name": "Python 3",
   "language": "python",
   "name": "python3"
  },
  "language_info": {
   "codemirror_mode": {
    "name": "ipython",
    "version": 3
   },
   "file_extension": ".py",
   "mimetype": "text/x-python",
   "name": "python",
   "nbconvert_exporter": "python",
   "pygments_lexer": "ipython3",
   "version": "3.12.6"
  }
 },
 "nbformat": 4,
 "nbformat_minor": 5
}
