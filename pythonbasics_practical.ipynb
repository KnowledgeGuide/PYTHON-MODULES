{
 "cells": [
  {
   "cell_type": "markdown",
   "id": "d6af8914",
   "metadata": {},
   "source": [
    "Answer\n",
    "\n",
    "1. What is Python, and why is it popular?\n",
    "\n",
    "- Python is a Programming Language and python is popular due to its versatile and easy of use. \n",
    "\n",
    "2. What is an interpreter in python?\n",
    "\n",
    "- Interpreter in python means that the python runs or execute codes line by line.\n",
    "\n",
    "3.  What are pre-defined keywords in Python?\n",
    "\n",
    "- Pre-defined keywords in python are word that have special meaning and are only used for some specific purpose.\n",
    "\n",
    "4. Can keywords be used as variable names?\n",
    "\n",
    "- Keywords in python cannot be used as Variables.\n",
    "\n",
    "5. What is mutability in Python?\n",
    "\n",
    "- Mutability in python means changing the state of an object after they are created \n",
    "\n",
    "6. Why are lists mutable, but tuples are immutable? \n",
    "\n",
    "- List are mutable because their value can be changed using the operations directly where as tuples hash value remains constant.\n",
    "\n",
    "7. What is the difference between “==” and “is” operators in Python?\n",
    "\n",
    "- (==) is an camparison operator used to campare two varible are equal or not where as (is) an identity operator used to check if two values are located in the same part of the memory or not.\n",
    "\n",
    "8. What are logical operators in Python?\n",
    "\n",
    "- logical operator in python perform Logical AND, OR, and NOT operations to combine to conditional statements.\n",
    "\n",
    "9. What is type casting in Python?\n",
    "\n",
    "- Typecasting is a method to change the datatype of the variable.\n",
    "\n",
    "10.  What is the difference between implicit and explicit type casting?\n",
    "\n",
    "- implicit >> python understands the datatype on its own.\n",
    "  explicit >> converts datatype uing in-built fuctions.\n",
    "\n",
    "11. What is the purpose of conditional statements in Python?\n",
    "\n",
    "- conditional statement is used to execute an action depending on whether the condition is true or false.\n",
    "\n",
    "12. How does the elif statement work?\n",
    "\n",
    "- The “elif” keyword in Python, stands for “else if”. It can be used in conditional statements to check for multiple conditions. For example, if the first condition is false, it moves on to the next “elif” statement to check if that condition is true.\n",
    "\n",
    "13. What is the difference between for and while loops?\n",
    "\n",
    "- A for loop in Python repeats executing a code block from a sequence till certain number of times. Whereas a while loop in Python repeats execution of a code block till the condition is true which is not certain.\n",
    "\n",
    "14. Describe a scenario where a while loop is more suitable than a for loop.\n",
    "\n",
    "- In programming, for loops are best used when you know the number of iterations ahead of time, whereas a while loop is best used when you don't know the number of iterations in advance."
   ]
  },
  {
   "cell_type": "code",
   "execution_count": 15,
   "id": "8edeeb5c",
   "metadata": {},
   "outputs": [
    {
     "name": "stdout",
     "output_type": "stream",
     "text": [
      "Hello World\n"
     ]
    }
   ],
   "source": [
    "# Practical Answers\n",
    "\n",
    "# 1 Write a Python program to print \"Hello, World!\"\n",
    "\n",
    "print(\"Hello World\")"
   ]
  },
  {
   "cell_type": "code",
   "execution_count": 16,
   "id": "85a806b2",
   "metadata": {},
   "outputs": [
    {
     "name": "stdout",
     "output_type": "stream",
     "text": [
      "Ammaaar Mirza\n",
      "22\n"
     ]
    }
   ],
   "source": [
    "# 2 Write a Python program that displays your name and age?\n",
    "\n",
    "name = \"Ammaaar Mirza\"\n",
    "age = \"22\" \n",
    "print(name)\n",
    "print(age)"
   ]
  },
  {
   "cell_type": "code",
   "execution_count": 17,
   "id": "555df38b",
   "metadata": {},
   "outputs": [
    {
     "name": "stdout",
     "output_type": "stream",
     "text": [
      "Python Keywords:\n",
      "False\n",
      "None\n",
      "True\n",
      "and\n",
      "as\n",
      "assert\n",
      "async\n",
      "await\n",
      "break\n",
      "class\n",
      "continue\n",
      "def\n",
      "del\n",
      "elif\n",
      "else\n",
      "except\n",
      "finally\n",
      "for\n",
      "from\n",
      "global\n",
      "if\n",
      "import\n",
      "in\n",
      "is\n",
      "lambda\n",
      "nonlocal\n",
      "not\n",
      "or\n",
      "pass\n",
      "raise\n",
      "return\n",
      "try\n",
      "while\n",
      "with\n",
      "yield\n"
     ]
    }
   ],
   "source": [
    "# 3 Write code to print all the pre-defined keywords in Python using the keyword library\n",
    "\n",
    "import keyword\n",
    "keywords_list = keyword.kwlist\n",
    "print(\"Python Keywords:\")\n",
    "for kw in keywords_list:\n",
    "    print(kw)\n"
   ]
  },
  {
   "cell_type": "code",
   "execution_count": 18,
   "id": "150bef32",
   "metadata": {},
   "outputs": [
    {
     "name": "stdout",
     "output_type": "stream",
     "text": [
      "'for' is a Python keyword.\n"
     ]
    }
   ],
   "source": [
    "# 4 Write a program that checks if a given word is a Python keyword.\n",
    "\n",
    "import keyword\n",
    "s = 'for'\n",
    "if keyword.iskeyword(s):\n",
    "    print(f\"'{s}' is a Python keyword.\")\n",
    "else:\n",
    "    print(f\"'{s}' is not a Python keyword.\")"
   ]
  },
  {
   "cell_type": "code",
   "execution_count": 19,
   "id": "58e6a4f9",
   "metadata": {},
   "outputs": [
    {
     "name": "stdout",
     "output_type": "stream",
     "text": [
      "[1, 2, 4, 77, 3, 3, 3, 6, 5]\n"
     ]
    },
    {
     "ename": "TypeError",
     "evalue": "'tuple' object does not support item assignment",
     "output_type": "error",
     "traceback": [
      "\u001b[1;31m---------------------------------------------------------------------------\u001b[0m",
      "\u001b[1;31mTypeError\u001b[0m                                 Traceback (most recent call last)",
      "Cell \u001b[1;32mIn[19], line 8\u001b[0m\n\u001b[0;32m      5\u001b[0m \u001b[38;5;28mprint\u001b[39m(a)\n\u001b[0;32m      7\u001b[0m b \u001b[38;5;241m=\u001b[39m (\u001b[38;5;241m0\u001b[39m, \u001b[38;5;241m1\u001b[39m, \u001b[38;5;241m2\u001b[39m, \u001b[38;5;241m3\u001b[39m) \u001b[38;5;66;03m# Tuple\u001b[39;00m\n\u001b[1;32m----> 8\u001b[0m \u001b[43mb\u001b[49m\u001b[43m[\u001b[49m\u001b[38;5;241;43m0\u001b[39;49m\u001b[43m]\u001b[49m \u001b[38;5;241m=\u001b[39m \u001b[38;5;241m4\u001b[39m\n\u001b[0;32m      9\u001b[0m \u001b[38;5;28mprint\u001b[39m(b)\n\u001b[0;32m     10\u001b[0m \u001b[38;5;66;03m# it will show error for both Tuple only\u001b[39;00m\n",
      "\u001b[1;31mTypeError\u001b[0m: 'tuple' object does not support item assignment"
     ]
    }
   ],
   "source": [
    "# 5  Create a list and tuple in Python, and demonstrate how attempting to change an element works differently for each\n",
    "\n",
    "a = [1, 2, 4, 4, 3, 3, 3, 6, 5] #list \n",
    "a[3] = 77\n",
    "print(a)\n",
    "\n",
    "b = (0, 1, 2, 3) # Tuple\n",
    "b[0] = 4\n",
    "print(b)\n",
    "# it will show error for both Tuple only"
   ]
  },
  {
   "cell_type": "code",
   "execution_count": null,
   "id": "f7c88003",
   "metadata": {},
   "outputs": [
    {
     "ename": "TypeError",
     "evalue": "'tuple' object does not support item assignment",
     "output_type": "error",
     "traceback": [
      "\u001b[1;31m---------------------------------------------------------------------------\u001b[0m",
      "\u001b[1;31mTypeError\u001b[0m                                 Traceback (most recent call last)",
      "Cell \u001b[1;32mIn[1], line 6\u001b[0m\n\u001b[0;32m      1\u001b[0m \u001b[38;5;66;03m# 6\u001b[39;00m\n\u001b[0;32m      2\u001b[0m \n\u001b[0;32m      3\u001b[0m \u001b[38;5;66;03m# Python code to test that tuples are immutable \u001b[39;00m\n\u001b[0;32m      5\u001b[0m tuple1 \u001b[38;5;241m=\u001b[39m (\u001b[38;5;241m0\u001b[39m, \u001b[38;5;241m1\u001b[39m, \u001b[38;5;241m2\u001b[39m, \u001b[38;5;241m3\u001b[39m) \n\u001b[1;32m----> 6\u001b[0m \u001b[43mtuple1\u001b[49m\u001b[43m[\u001b[49m\u001b[38;5;241;43m0\u001b[39;49m\u001b[43m]\u001b[49m \u001b[38;5;241m=\u001b[39m \u001b[38;5;241m4\u001b[39m\n\u001b[0;32m      7\u001b[0m \u001b[38;5;28mprint\u001b[39m(tuple1)\n\u001b[0;32m      9\u001b[0m \u001b[38;5;66;03m# Python code to test that strings are immutable \u001b[39;00m\n",
      "\u001b[1;31mTypeError\u001b[0m: 'tuple' object does not support item assignment"
     ]
    }
   ],
   "source": [
    "# 6 Write a function to demonstrate the behavior of mutable and immutable arguments.\n",
    "\n",
    "# Python code to test that tuples are immutable \n",
    "  \n",
    "tuple1 = (0, 1, 2, 3) \n",
    "tuple1[0] = 4\n",
    "print(tuple1)\n",
    "\n",
    "# Python code to test that strings are immutable \n",
    "\n",
    "message = \"Welcome to GeeksforGeeks\"\n",
    "message[0] = 'p'\n",
    "print(message)\n",
    "# It will show error for both tuple and strings."
   ]
  },
  {
   "cell_type": "code",
   "execution_count": null,
   "id": "f6467fc0",
   "metadata": {},
   "outputs": [
    {
     "data": {
      "text/plain": [
       "20"
      ]
     },
     "execution_count": 12,
     "metadata": {},
     "output_type": "execute_result"
    }
   ],
   "source": [
    "# 8  Write a program that performs basic arithmetic operations on two user-input numbers.\n",
    "\n",
    "a = input(\"First number: \")\n",
    "b = input(\"Second number: \")\n",
    "\n",
    "add = int(a) + int(b)\n",
    "\n",
    "add"
   ]
  },
  {
   "cell_type": "code",
   "execution_count": null,
   "id": "de183301",
   "metadata": {},
   "outputs": [
    {
     "data": {
      "text/plain": [
       "int"
      ]
     },
     "execution_count": 21,
     "metadata": {},
     "output_type": "execute_result"
    }
   ],
   "source": [
    "# 9 Write a Python program to convert user input from string to integer, float, and boolean types\n",
    "\n",
    "a = input(\"First number: \")\n",
    "b = int(a)\n",
    " \n",
    "type(b)"
   ]
  },
  {
   "cell_type": "code",
   "execution_count": null,
   "id": "9159df69",
   "metadata": {},
   "outputs": [
    {
     "data": {
      "text/plain": [
       "float"
      ]
     },
     "execution_count": 22,
     "metadata": {},
     "output_type": "execute_result"
    }
   ],
   "source": [
    "# 9 \n",
    "a = input(\"First number: \")\n",
    "b = float(a)\n",
    " \n",
    "type(b)"
   ]
  },
  {
   "cell_type": "code",
   "execution_count": null,
   "id": "f5804b1b",
   "metadata": {},
   "outputs": [
    {
     "data": {
      "text/plain": [
       "bool"
      ]
     },
     "execution_count": 25,
     "metadata": {},
     "output_type": "execute_result"
    }
   ],
   "source": [
    "# 9\n",
    "a = input(\"First number: \")\n",
    "b = bool(a)\n",
    " \n",
    "type(b)"
   ]
  },
  {
   "cell_type": "code",
   "execution_count": null,
   "id": "9a578fc2",
   "metadata": {},
   "outputs": [
    {
     "name": "stdout",
     "output_type": "stream",
     "text": [
      "['1', '4', '9', '10', '19']\n"
     ]
    }
   ],
   "source": [
    "# 10  Write code to demonstrate type casting with list elements.\n",
    "\n",
    "a = [1, 4, 9, 10, 19]\n",
    "c = [str(x) for x in a]\n",
    "\n",
    "print(c)"
   ]
  },
  {
   "cell_type": "code",
   "execution_count": null,
   "id": "e8ac1d79",
   "metadata": {},
   "outputs": [
    {
     "name": "stdout",
     "output_type": "stream",
     "text": [
      "Positive\n",
      "Equal to zero\n",
      "Negative\n"
     ]
    }
   ],
   "source": [
    "# 11 Write a program that checks if a number is positive, negative, or zero.\n",
    "\n",
    "def check(n):\n",
    "    \n",
    "    if n > 0:\n",
    "        print(\"Positive\")\n",
    "        \n",
    "    elif n < 0:\n",
    "        print(\"Negative\")\n",
    "        \n",
    "    else:\n",
    "        print(\"Equal to zero\")\n",
    "        \n",
    "check(5)\n",
    "check(0)\n",
    "check(-5)"
   ]
  },
  {
   "cell_type": "code",
   "execution_count": null,
   "id": "d24c69a2",
   "metadata": {},
   "outputs": [
    {
     "name": "stdout",
     "output_type": "stream",
     "text": [
      "1\n",
      "2\n",
      "3\n",
      "4\n",
      "5\n",
      "6\n",
      "7\n",
      "8\n",
      "9\n",
      "10\n"
     ]
    }
   ],
   "source": [
    "# 12 Write a for loop to print numbers from 1 to 10\n",
    "\n",
    "for i in range (1, 11):\n",
    "    print (i)"
   ]
  },
  {
   "cell_type": "code",
   "execution_count": null,
   "id": "b6e1eaad",
   "metadata": {},
   "outputs": [
    {
     "name": "stdout",
     "output_type": "stream",
     "text": [
      "0\n",
      "2\n",
      "4\n",
      "6\n",
      "8\n",
      "10\n",
      "12\n",
      "14\n",
      "16\n",
      "18\n",
      "20\n",
      "22\n",
      "24\n",
      "26\n",
      "28\n",
      "30\n",
      "32\n",
      "34\n",
      "36\n",
      "38\n",
      "40\n",
      "42\n",
      "44\n",
      "46\n",
      "48\n",
      "50\n",
      "Sum of all the even numbers is 650\n"
     ]
    }
   ],
   "source": [
    "# 13 Write a Python program to find the sum of all even numbers between 1 and 50.\n",
    "\n",
    "num = int(input('Enter a number: '))\n",
    "sum = 0\n",
    "i = 0\n",
    "while i <= num:\n",
    "    if i % 2 == 0:\n",
    "        print(i)\n",
    "        sum+=i\n",
    "    i+=1\n",
    "print(f\"Sum of all the even numbers is {sum}\")"
   ]
  },
  {
   "cell_type": "code",
   "execution_count": null,
   "id": "12129264",
   "metadata": {},
   "outputs": [
    {
     "name": "stdout",
     "output_type": "stream",
     "text": [
      "skeeGrofskeeG\n"
     ]
    }
   ],
   "source": [
    "# 14  Write a program to reverse a string using a while loop.\n",
    "\n",
    "s = \"GeeksforGeeks\"\n",
    "rev = s[::-1]\n",
    "print(rev)"
   ]
  },
  {
   "cell_type": "code",
   "execution_count": null,
   "id": "856a098b",
   "metadata": {},
   "outputs": [
    {
     "name": "stdout",
     "output_type": "stream",
     "text": [
      "120\n"
     ]
    }
   ],
   "source": [
    "# 15 Write a Python program to calculate the factorial of a number provided by the user using a while loop.\n",
    "\n",
    "def factorial(n):\n",
    "    num = 1\n",
    "    while n >= 1:\n",
    "        num = num * n\n",
    "        n = n - 1\n",
    "    return num\n",
    "f = factorial(5)\n",
    "print(f)"
   ]
  }
 ],
 "metadata": {
  "kernelspec": {
   "display_name": "Python 3",
   "language": "python",
   "name": "python3"
  },
  "language_info": {
   "codemirror_mode": {
    "name": "ipython",
    "version": 3
   },
   "file_extension": ".py",
   "mimetype": "text/x-python",
   "name": "python",
   "nbconvert_exporter": "python",
   "pygments_lexer": "ipython3",
   "version": "3.12.6"
  }
 },
 "nbformat": 4,
 "nbformat_minor": 5
}
